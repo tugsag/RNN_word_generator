{
 "cells": [
  {
   "cell_type": "code",
   "execution_count": 1,
   "metadata": {},
   "outputs": [
    {
     "data": {
      "text/plain": [
       "'BOOK I.\\n\\nI went down yesterday to the Piraeus with Glaucon the son of Ariston,\\nthat I might offer up'"
      ]
     },
     "execution_count": 1,
     "metadata": {},
     "output_type": "execute_result"
    }
   ],
   "source": [
    "# load file\n",
    "with open('data/republic.txt', 'r') as f:\n",
    "    text = f.read()\n",
    "\n",
    "text[:100]"
   ]
  },
  {
   "cell_type": "code",
   "execution_count": 2,
   "metadata": {},
   "outputs": [
    {
     "name": "stdout",
     "output_type": "stream",
     "text": [
      "number of tokens: 96479\n",
      "unique tokens: 6577\n"
     ]
    }
   ],
   "source": [
    "import string\n",
    "def clean(text):\n",
    "    text = text.replace('--', ' ')\n",
    "    tokens = text.split(' ')\n",
    "    table = str.maketrans('', '', string.punctuation)\n",
    "    tokens = [w.translate(table) for w in tokens]\n",
    "    tokens = [w for w in tokens if w.isalpha()]\n",
    "    tokens = [w.lower() for w in tokens]\n",
    "    return tokens\n",
    "tokens = clean(text)\n",
    "print(f'number of tokens: {len(tokens)}')\n",
    "print(f'unique tokens: {len(set(tokens))}')"
   ]
  },
  {
   "cell_type": "code",
   "execution_count": 3,
   "metadata": {},
   "outputs": [
    {
     "data": {
      "text/plain": [
       "['book',\n",
       " 'went',\n",
       " 'down',\n",
       " 'yesterday',\n",
       " 'to',\n",
       " 'the',\n",
       " 'piraeus',\n",
       " 'with',\n",
       " 'glaucon',\n",
       " 'the']"
      ]
     },
     "execution_count": 3,
     "metadata": {},
     "output_type": "execute_result"
    }
   ],
   "source": [
    "tokens[:10]"
   ]
  },
  {
   "cell_type": "code",
   "execution_count": 4,
   "metadata": {},
   "outputs": [
    {
     "name": "stdout",
     "output_type": "stream",
     "text": [
      "Total # of lines: 96428\n"
     ]
    }
   ],
   "source": [
    "length = 51\n",
    "sequences = []\n",
    "for i in range(length, len(tokens)):\n",
    "    seq = tokens[i - length: i]\n",
    "    line = ' '.join(seq)\n",
    "    sequences.append(seq)\n",
    "print(f'Total # of lines: {len(sequences)}')"
   ]
  },
  {
   "cell_type": "code",
   "execution_count": 5,
   "metadata": {},
   "outputs": [],
   "source": [
    "import tensorflow as tf\n",
    "from tensorflow import keras\n",
    "from keras.preprocessing.text import Tokenizer\n",
    "\n",
    "tokenizer = Tokenizer()\n",
    "tokenizer.fit_on_texts(sequences)\n",
    "seqs = tokenizer.texts_to_sequences(sequences)"
   ]
  },
  {
   "cell_type": "code",
   "execution_count": 6,
   "metadata": {},
   "outputs": [],
   "source": [
    "vocab_size = len(tokenizer.word_index) + 1"
   ]
  },
  {
   "cell_type": "code",
   "execution_count": 7,
   "metadata": {},
   "outputs": [],
   "source": [
    "import numpy as np\n",
    "from tensorflow.keras.utils import to_categorical\n",
    "seqs = np.array(seqs)\n",
    "X = seqs[:,:-1]\n",
    "y = seqs[:,-1]\n",
    "y = to_categorical(y, num_classes=vocab_size)\n",
    "seq_len = X.shape[1]"
   ]
  },
  {
   "cell_type": "code",
   "execution_count": 8,
   "metadata": {},
   "outputs": [],
   "source": [
    "# build model\n",
    "from tensorflow.keras.layers import LSTM, Embedding, Bidirectional, Input, Dense\n",
    "from tensorflow.keras import Model, Sequential\n",
    "\n",
    "inputs = Input(shape=(seq_len,))\n",
    "embedding = Embedding(vocab_size, 50, input_length=seq_len)(inputs)\n",
    "x = Bidirectional(LSTM(100, return_sequences=True))(embedding)\n",
    "x = Bidirectional(LSTM(100, return_sequences=True))(x)\n",
    "x = Bidirectional(LSTM(100))(x)\n",
    "x = Dense(128, activation='relu')(x)\n",
    "outputs = Dense(vocab_size, activation='softmax')(x)\n",
    "model = Model(inputs=inputs, outputs=outputs, name='LSTM')"
   ]
  },
  {
   "cell_type": "code",
   "execution_count": 9,
   "metadata": {},
   "outputs": [
    {
     "data": {
      "text/plain": [
       "((96428, 50), (96428, 6578))"
      ]
     },
     "execution_count": 9,
     "metadata": {},
     "output_type": "execute_result"
    }
   ],
   "source": [
    "X.shape, y.shape"
   ]
  },
  {
   "cell_type": "code",
   "execution_count": 10,
   "metadata": {},
   "outputs": [
    {
     "data": {
      "text/plain": [
       "[PhysicalDevice(name='/physical_device:GPU:0', device_type='GPU')]"
      ]
     },
     "execution_count": 10,
     "metadata": {},
     "output_type": "execute_result"
    }
   ],
   "source": [
    "tf.config.list_physical_devices('GPU')"
   ]
  },
  {
   "cell_type": "code",
   "execution_count": 11,
   "metadata": {},
   "outputs": [
    {
     "data": {
      "text/plain": [
       "((50000, 50), (50000, 6578))"
      ]
     },
     "execution_count": 11,
     "metadata": {},
     "output_type": "execute_result"
    }
   ],
   "source": [
    "x_cut = X[:50000]\n",
    "y_cut = y[:50000]\n",
    "x_cut.shape, y_cut.shape"
   ]
  },
  {
   "cell_type": "code",
   "execution_count": 13,
   "metadata": {},
   "outputs": [
    {
     "name": "stdout",
     "output_type": "stream",
     "text": [
      "Epoch 1/50\n",
      "1563/1563 [==============================] - 20s 10ms/step - loss: 6.1089 - accuracy: 0.0648\n",
      "Epoch 2/50\n",
      "1563/1563 [==============================] - 15s 10ms/step - loss: 5.7127 - accuracy: 0.0901\n",
      "Epoch 3/50\n",
      "1563/1563 [==============================] - 15s 10ms/step - loss: 5.5424 - accuracy: 0.1055\n",
      "Epoch 4/50\n",
      "1563/1563 [==============================] - 15s 10ms/step - loss: 5.3844 - accuracy: 0.1178\n",
      "Epoch 5/50\n",
      "1563/1563 [==============================] - 15s 10ms/step - loss: 5.2440 - accuracy: 0.1309\n",
      "Epoch 6/50\n",
      "1563/1563 [==============================] - 15s 10ms/step - loss: 5.1823 - accuracy: 0.1369\n",
      "Epoch 7/50\n",
      "1563/1563 [==============================] - 15s 10ms/step - loss: 5.0928 - accuracy: 0.1438\n",
      "Epoch 8/50\n",
      "1563/1563 [==============================] - 15s 10ms/step - loss: 5.0082 - accuracy: 0.1490\n",
      "Epoch 9/50\n",
      "1563/1563 [==============================] - 15s 10ms/step - loss: 4.9280 - accuracy: 0.1523\n",
      "Epoch 10/50\n",
      "1563/1563 [==============================] - 15s 10ms/step - loss: 4.8523 - accuracy: 0.1552\n",
      "Epoch 11/50\n",
      "1563/1563 [==============================] - 15s 10ms/step - loss: 4.7796 - accuracy: 0.1587\n",
      "Epoch 12/50\n",
      "1563/1563 [==============================] - 17s 11ms/step - loss: 4.7128 - accuracy: 0.1618\n",
      "Epoch 13/50\n",
      "1563/1563 [==============================] - 19s 12ms/step - loss: 4.6494 - accuracy: 0.1639\n",
      "Epoch 14/50\n",
      "1563/1563 [==============================] - 20s 13ms/step - loss: 4.5901 - accuracy: 0.1672\n",
      "Epoch 15/50\n",
      "1563/1563 [==============================] - 18s 12ms/step - loss: 4.5434 - accuracy: 0.1688\n",
      "Epoch 16/50\n",
      "1563/1563 [==============================] - 18s 12ms/step - loss: 4.5014 - accuracy: 0.1696\n",
      "Epoch 17/50\n",
      "1563/1563 [==============================] - 18s 12ms/step - loss: 4.4353 - accuracy: 0.1725\n",
      "Epoch 18/50\n",
      "1563/1563 [==============================] - 17s 11ms/step - loss: 4.3846 - accuracy: 0.1741\n",
      "Epoch 19/50\n",
      "1563/1563 [==============================] - 16s 10ms/step - loss: 4.3364 - accuracy: 0.1739\n",
      "Epoch 20/50\n",
      "1563/1563 [==============================] - 17s 11ms/step - loss: 4.2886 - accuracy: 0.1768\n",
      "Epoch 21/50\n",
      "1563/1563 [==============================] - 19s 12ms/step - loss: 4.2444 - accuracy: 0.1806\n",
      "Epoch 22/50\n",
      "1563/1563 [==============================] - 18s 11ms/step - loss: 4.2025 - accuracy: 0.1815\n",
      "Epoch 23/50\n",
      "1563/1563 [==============================] - 16s 10ms/step - loss: 4.1566 - accuracy: 0.1834\n",
      "Epoch 24/50\n",
      "1563/1563 [==============================] - 17s 11ms/step - loss: 4.1133 - accuracy: 0.1856\n",
      "Epoch 25/50\n",
      "1563/1563 [==============================] - 18s 12ms/step - loss: 4.0733 - accuracy: 0.1890\n",
      "Epoch 26/50\n",
      "1563/1563 [==============================] - 17s 11ms/step - loss: 4.0436 - accuracy: 0.1915\n",
      "Epoch 27/50\n",
      "1563/1563 [==============================] - 16s 10ms/step - loss: 4.0093 - accuracy: 0.1947\n",
      "Epoch 28/50\n",
      "1563/1563 [==============================] - 17s 11ms/step - loss: 3.9646 - accuracy: 0.1959\n",
      "Epoch 29/50\n",
      "1563/1563 [==============================] - 18s 12ms/step - loss: 3.9703 - accuracy: 0.1971\n",
      "Epoch 30/50\n",
      "1563/1563 [==============================] - 17s 11ms/step - loss: 3.9293 - accuracy: 0.1992\n",
      "Epoch 31/50\n",
      "1563/1563 [==============================] - 16s 10ms/step - loss: 3.8752 - accuracy: 0.2032\n",
      "Epoch 32/50\n",
      "1563/1563 [==============================] - 17s 11ms/step - loss: 3.8350 - accuracy: 0.2065\n",
      "Epoch 33/50\n",
      "1563/1563 [==============================] - 18s 11ms/step - loss: 3.7988 - accuracy: 0.2104\n",
      "Epoch 34/50\n",
      "1563/1563 [==============================] - 17s 11ms/step - loss: 3.7720 - accuracy: 0.2134\n",
      "Epoch 35/50\n",
      "1563/1563 [==============================] - 16s 10ms/step - loss: 3.7407 - accuracy: 0.2171\n",
      "Epoch 36/50\n",
      "1563/1563 [==============================] - 16s 11ms/step - loss: 3.7173 - accuracy: 0.2184\n",
      "Epoch 37/50\n",
      "1563/1563 [==============================] - 18s 12ms/step - loss: 3.6914 - accuracy: 0.2211\n",
      "Epoch 38/50\n",
      "1563/1563 [==============================] - 18s 11ms/step - loss: 3.6643 - accuracy: 0.2247\n",
      "Epoch 39/50\n",
      "1563/1563 [==============================] - 16s 10ms/step - loss: 3.6413 - accuracy: 0.2268\n",
      "Epoch 40/50\n",
      "1563/1563 [==============================] - 16s 10ms/step - loss: 3.6127 - accuracy: 0.2311\n",
      "Epoch 41/50\n",
      "1563/1563 [==============================] - 17s 11ms/step - loss: 3.5910 - accuracy: 0.2343\n",
      "Epoch 42/50\n",
      "1563/1563 [==============================] - 18s 12ms/step - loss: 3.5589 - accuracy: 0.2374\n",
      "Epoch 43/50\n",
      "1563/1563 [==============================] - 16s 10ms/step - loss: 3.5314 - accuracy: 0.2414\n",
      "Epoch 44/50\n",
      "1563/1563 [==============================] - 16s 10ms/step - loss: 3.5061 - accuracy: 0.2440\n",
      "Epoch 45/50\n",
      "1563/1563 [==============================] - 17s 11ms/step - loss: 3.5114 - accuracy: 0.2470\n",
      "Epoch 46/50\n",
      "1563/1563 [==============================] - 18s 12ms/step - loss: 3.4745 - accuracy: 0.2484\n",
      "Epoch 47/50\n",
      "1563/1563 [==============================] - 17s 11ms/step - loss: 3.5435 - accuracy: 0.2399\n",
      "Epoch 48/50\n",
      "1563/1563 [==============================] - 16s 10ms/step - loss: 3.4705 - accuracy: 0.2465\n",
      "Epoch 49/50\n",
      "1563/1563 [==============================] - 18s 12ms/step - loss: 3.4093 - accuracy: 0.2573\n",
      "Epoch 50/50\n",
      "1563/1563 [==============================] - 18s 12ms/step - loss: 3.3661 - accuracy: 0.2625\n"
     ]
    },
    {
     "data": {
      "text/plain": [
       "<keras.callbacks.History at 0x27ff7f71588>"
      ]
     },
     "execution_count": 13,
     "metadata": {},
     "output_type": "execute_result"
    }
   ],
   "source": [
    "model.compile(optimizer='adam', loss='categorical_crossentropy', metrics=['accuracy'])\n",
    "model.fit(x_cut, y_cut, batch_size=32, epochs=50)"
   ]
  },
  {
   "cell_type": "code",
   "execution_count": 54,
   "metadata": {},
   "outputs": [
    {
     "name": "stdout",
     "output_type": "stream",
     "text": [
      "['he', 'replied', 'and', 'i', 'see', 'as', 'every', 'one', 'must', 'that', 'is', 'the', 'wretchedest', 'form', 'of', 'government', 'and', 'the', 'rule', 'of', 'a', 'in', 'estimating', 'the', 'men', 'too', 'may', 'i', 'not', 'fairly', 'make', 'a', 'like', 'i', 'should', 'have', 'a', 'judge', 'whose', 'mind', 'can', 'enter', 'into', 'and', 'see', 'nature', 'he', 'must', 'not', 'be', 'like']\n"
     ]
    }
   ],
   "source": [
    "seed_text = sequences[np.random.randint(0, len(sequences))]\n",
    "print(seed_text)"
   ]
  },
  {
   "cell_type": "code",
   "execution_count": 39,
   "metadata": {},
   "outputs": [],
   "source": [
    "encoded = tokenizer.texts_to_sequences(seed_text)"
   ]
  },
  {
   "cell_type": "code",
   "execution_count": 60,
   "metadata": {},
   "outputs": [],
   "source": [
    "out = model.predict(encoded)"
   ]
  },
  {
   "cell_type": "code",
   "execution_count": 61,
   "metadata": {},
   "outputs": [
    {
     "data": {
      "text/plain": [
       "(51, 6578)"
      ]
     },
     "execution_count": 61,
     "metadata": {},
     "output_type": "execute_result"
    }
   ],
   "source": []
  },
  {
   "cell_type": "code",
   "execution_count": 63,
   "metadata": {},
   "outputs": [
    {
     "name": "stdout",
     "output_type": "stream",
     "text": [
      "and\n"
     ]
    }
   ],
   "source": [
    "ind = np.argmax(out[-1])\n",
    "for val, i in tokenizer.word_index.items():\n",
    "    if i == ind:\n",
    "        print(val)\n",
    "        break"
   ]
  },
  {
   "cell_type": "code",
   "execution_count": 56,
   "metadata": {},
   "outputs": [],
   "source": [
    "from tensorflow.keras.preprocessing.sequence import pad_sequences\n",
    "def generate(model, tokenizer, seq_length, seed_text, n_words):\n",
    "    result = []\n",
    "    in_text = seed_text\n",
    "    for i in range(n_words):\n",
    "        encoded = tokenizer.texts_to_sequences(in_text)\n",
    "        encoded = pad_sequences(encoded, maxlen=seq_length, truncating='pre')\n",
    "        out = model.predict(encoded)\n",
    "        out = np.argmax(out[-1])\n",
    "        out_word = ''\n",
    "        for val, i in tokenizer.word_index.items():\n",
    "            if i == out:\n",
    "                out_word = val\n",
    "                break\n",
    "        print(out_word)\n",
    "        in_text += ' ' + out_word\n",
    "        result.append(out_word)\n",
    "    return ' '.join(result)\n"
   ]
  },
  {
   "cell_type": "code",
   "execution_count": 57,
   "metadata": {},
   "outputs": [
    {
     "name": "stdout",
     "output_type": "stream",
     "text": [
      "these\n",
      "these\n",
      "these\n",
      "these\n",
      "these\n",
      "these\n",
      "these\n",
      "these\n",
      "these\n",
      "these\n",
      "these\n",
      "these\n",
      "these\n",
      "these\n",
      "these\n",
      "these\n",
      "these\n",
      "these\n",
      "these\n",
      "these\n",
      "these\n",
      "these\n",
      "these\n",
      "these\n",
      "these\n",
      "these\n",
      "these\n",
      "these\n",
      "these\n",
      "these\n",
      "these\n",
      "these\n",
      "these\n",
      "these\n",
      "these\n",
      "these\n",
      "these\n",
      "these\n",
      "these\n",
      "these\n",
      "these\n",
      "these\n",
      "these\n",
      "these\n",
      "these\n",
      "these\n",
      "these\n",
      "these\n",
      "these\n",
      "these\n"
     ]
    }
   ],
   "source": [
    "res = generate(model, tokenizer, seq_len, seed_text, 50)"
   ]
  },
  {
   "cell_type": "code",
   "execution_count": 59,
   "metadata": {},
   "outputs": [
    {
     "name": "stdout",
     "output_type": "stream",
     "text": [
      "['he', 'replied', 'and', 'i', 'see', 'as', 'every', 'one', 'must', 'that', 'is', 'the', 'wretchedest', 'form', 'of', 'government', 'and', 'the', 'rule', 'of', 'a', 'in', 'estimating', 'the', 'men', 'too', 'may', 'i', 'not', 'fairly', 'make', 'a', 'like', 'i', 'should', 'have', 'a', 'judge', 'whose', 'mind', 'can', 'enter', 'into', 'and', 'see', 'nature', 'he', 'must', 'not', 'be', 'like', ' ', 't', 'h', 'e', 's', 'e', ' ', 't', 'h', 'e', 's', 'e', ' ', 't', 'h', 'e', 's', 'e', ' ', 't', 'h', 'e', 's', 'e', ' ', 't', 'h', 'e', 's', 'e', ' ', 't', 'h', 'e', 's', 'e', ' ', 't', 'h', 'e', 's', 'e', ' ', 't', 'h', 'e', 's', 'e', ' ', 't', 'h', 'e', 's', 'e', ' ', 't', 'h', 'e', 's', 'e', ' ', 't', 'h', 'e', 's', 'e', ' ', 't', 'h', 'e', 's', 'e', ' ', 't', 'h', 'e', 's', 'e', ' ', 't', 'h', 'e', 's', 'e', ' ', 't', 'h', 'e', 's', 'e', ' ', 't', 'h', 'e', 's', 'e', ' ', 't', 'h', 'e', 's', 'e', ' ', 't', 'h', 'e', 's', 'e', ' ', 't', 'h', 'e', 's', 'e', ' ', 't', 'h', 'e', 's', 'e', ' ', 't', 'h', 'e', 's', 'e', ' ', 't', 'h', 'e', 's', 'e', ' ', 't', 'h', 'e', 's', 'e', ' ', 't', 'h', 'e', 's', 'e', ' ', 't', 'h', 'e', 's', 'e', ' ', 't', 'h', 'e', 's', 'e', ' ', 't', 'h', 'e', 's', 'e', ' ', 't', 'h', 'e', 's', 'e', ' ', 't', 'h', 'e', 's', 'e', ' ', 't', 'h', 'e', 's', 'e', ' ', 't', 'h', 'e', 's', 'e', ' ', 't', 'h', 'e', 's', 'e', ' ', 't', 'h', 'e', 's', 'e', ' ', 't', 'h', 'e', 's', 'e', ' ', 't', 'h', 'e', 's', 'e', ' ', 't', 'h', 'e', 's', 'e', ' ', 't', 'h', 'e', 's', 'e', ' ', 't', 'h', 'e', 's', 'e', ' ', 't', 'h', 'e', 's', 'e', ' ', 't', 'h', 'e', 's', 'e', ' ', 't', 'h', 'e', 's', 'e', ' ', 't', 'h', 'e', 's', 'e', ' ', 't', 'h', 'e', 's', 'e', ' ', 't', 'h', 'e', 's', 'e', ' ', 't', 'h', 'e', 's', 'e', ' ', 't', 'h', 'e', 's', 'e', ' ', 't', 'h', 'e', 's', 'e', ' ', 't', 'h', 'e', 's', 'e', ' ', 't', 'h', 'e', 's', 'e', ' ', 't', 'h', 'e', 's', 'e']\n"
     ]
    },
    {
     "data": {
      "text/plain": [
       "'these these these these these these these these these these these these these these these these these these these these these these these these these these these these these these these these these these these these these these these these these these these these these these these these these these'"
      ]
     },
     "execution_count": 59,
     "metadata": {},
     "output_type": "execute_result"
    }
   ],
   "source": [
    "print(seed_text)\n",
    "res"
   ]
  },
  {
   "cell_type": "code",
   "execution_count": null,
   "metadata": {},
   "outputs": [],
   "source": []
  }
 ],
 "metadata": {
  "interpreter": {
   "hash": "cc5422b12685f2e26a219cc1c3684d3fd12358109a1007c8dc1ebf1fad93bcb8"
  },
  "kernelspec": {
   "display_name": "Python 3.7.9 64-bit",
   "language": "python",
   "name": "python3"
  },
  "language_info": {
   "codemirror_mode": {
    "name": "ipython",
    "version": 3
   },
   "file_extension": ".py",
   "mimetype": "text/x-python",
   "name": "python",
   "nbconvert_exporter": "python",
   "pygments_lexer": "ipython3",
   "version": "3.7.9"
  },
  "orig_nbformat": 4
 },
 "nbformat": 4,
 "nbformat_minor": 2
}
